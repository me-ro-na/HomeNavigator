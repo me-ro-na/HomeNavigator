{
 "cells": [
  {
   "cell_type": "code",
   "execution_count": 2,
   "metadata": {},
   "outputs": [],
   "source": [
    "from openai import OpenAI\n",
    "import os\n",
    "\n",
    "client = OpenAI(\n",
    "  api_key='sk-proj-RGxBgR0aZsBGjmZ6nuPdT3BlbkFJwL1OFukJDx6SaUPfWewH'\n",
    ")"
   ]
  }
 ],
 "metadata": {
  "interpreter": {
   "hash": "e3c4c95196dc3fa5fa4f1fc77b4bc90c77873ac9b911192dc7b140f267e48e48"
  },
  "kernelspec": {
   "display_name": "Python 3.8.12 ('HomeNavigator')",
   "language": "python",
   "name": "python3"
  },
  "language_info": {
   "codemirror_mode": {
    "name": "ipython",
    "version": 3
   },
   "file_extension": ".py",
   "mimetype": "text/x-python",
   "name": "python",
   "nbconvert_exporter": "python",
   "pygments_lexer": "ipython3",
   "version": "3.8.12"
  },
  "orig_nbformat": 4
 },
 "nbformat": 4,
 "nbformat_minor": 2
}
